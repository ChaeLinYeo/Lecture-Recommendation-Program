{
 "cells": [
  {
   "cell_type": "code",
   "execution_count": 2,
   "metadata": {
    "id": "6rmGbWciZxHw"
   },
   "outputs": [],
   "source": [
    "import pandas as pd\n",
    "from sklearn.feature_extraction.text import TfidfVectorizer\n",
    "from sklearn.metrics.pairwise import linear_kernel"
   ]
  },
  {
   "cell_type": "code",
   "execution_count": 3,
   "metadata": {},
   "outputs": [
    {
     "name": "stderr",
     "output_type": "stream",
     "text": [
      "[nltk_data] Downloading package stopwords to\n",
      "[nltk_data]     C:\\Users\\park\\AppData\\Roaming\\nltk_data...\n",
      "[nltk_data]   Package stopwords is already up-to-date!\n",
      "[nltk_data] Downloading package punkt to\n",
      "[nltk_data]     C:\\Users\\park\\AppData\\Roaming\\nltk_data...\n",
      "[nltk_data]   Package punkt is already up-to-date!\n"
     ]
    },
    {
     "data": {
      "text/plain": [
       "True"
      ]
     },
     "execution_count": 3,
     "metadata": {},
     "output_type": "execute_result"
    }
   ],
   "source": [
    "# 예찬 _ nltk에 저장되어 있는 stop word를 받기 위한 것들\n",
    "import nltk\n",
    "from nltk import word_tokenize\n",
    "nltk.download('stopwords')\n",
    "nltk.download('punkt')"
   ]
  },
  {
   "cell_type": "code",
   "execution_count": 11,
   "metadata": {},
   "outputs": [
    {
     "name": "stderr",
     "output_type": "stream",
     "text": [
      "[nltk_data] Downloading package wordnet to\n",
      "[nltk_data]     C:\\Users\\park\\AppData\\Roaming\\nltk_data...\n",
      "[nltk_data]   Unzipping corpora\\wordnet.zip.\n"
     ]
    },
    {
     "data": {
      "text/plain": [
       "True"
      ]
     },
     "execution_count": 11,
     "metadata": {},
     "output_type": "execute_result"
    }
   ],
   "source": [
    "# 텍스트 정규화\n",
    "from nltk.stem import WordNetLemmatizer\n",
    "nltk.download('wordnet')"
   ]
  },
  {
   "cell_type": "code",
   "execution_count": 4,
   "metadata": {
    "colab": {
     "base_uri": "https://localhost:8080/",
     "height": 129
    },
    "id": "EWyBYXQYZ5Gs",
    "outputId": "fe88bcb5-a658-4ed2-baeb-12050e9c2807"
   },
   "outputs": [
    {
     "data": {
      "text/html": [
       "<div>\n",
       "<style scoped>\n",
       "    .dataframe tbody tr th:only-of-type {\n",
       "        vertical-align: middle;\n",
       "    }\n",
       "\n",
       "    .dataframe tbody tr th {\n",
       "        vertical-align: top;\n",
       "    }\n",
       "\n",
       "    .dataframe thead th {\n",
       "        text-align: right;\n",
       "    }\n",
       "</style>\n",
       "<table border=\"1\" class=\"dataframe\">\n",
       "  <thead>\n",
       "    <tr style=\"text-align: right;\">\n",
       "      <th></th>\n",
       "      <th>학수번호</th>\n",
       "      <th>과목명</th>\n",
       "      <th>수업년도</th>\n",
       "      <th>수업학기</th>\n",
       "      <th>인문사회</th>\n",
       "      <th>자연과학</th>\n",
       "      <th>공학</th>\n",
       "      <th>예체능</th>\n",
       "      <th>국문개요</th>\n",
       "      <th>영문개요</th>\n",
       "      <th>키워드</th>\n",
       "      <th>추천강의</th>\n",
       "      <th>Unnamed: 12</th>\n",
       "      <th>Unnamed: 13</th>\n",
       "    </tr>\n",
       "  </thead>\n",
       "  <tbody>\n",
       "    <tr>\n",
       "      <td>0</td>\n",
       "      <td>ACC2051</td>\n",
       "      <td>중급회계1</td>\n",
       "      <td>2020.0</td>\n",
       "      <td>1.0</td>\n",
       "      <td>267.0</td>\n",
       "      <td>0.0</td>\n",
       "      <td>3.0</td>\n",
       "      <td>5.0</td>\n",
       "      <td>ACC 251 재무회계 기업 재무회계의 이론적 구조를 이해하고 일반적으로 인정된 회...</td>\n",
       "      <td>Acc 251 Financial Accounting This course is in...</td>\n",
       "      <td>회계, 재무회계, 회계정보, 의사, 신용의사</td>\n",
       "      <td>회계정보의활용, 기업윤리와사회적책임, 회계정보의이해, 스크린영어, 보이스앙상블</td>\n",
       "      <td>NaN</td>\n",
       "      <td>NaN</td>\n",
       "    </tr>\n",
       "  </tbody>\n",
       "</table>\n",
       "</div>"
      ],
      "text/plain": [
       "      학수번호    과목명    수업년도  수업학기   인문사회  자연과학   공학  예체능  \\\n",
       "0  ACC2051  중급회계1  2020.0   1.0  267.0   0.0  3.0  5.0   \n",
       "\n",
       "                                                국문개요  \\\n",
       "0  ACC 251 재무회계 기업 재무회계의 이론적 구조를 이해하고 일반적으로 인정된 회...   \n",
       "\n",
       "                                                영문개요  \\\n",
       "0  Acc 251 Financial Accounting This course is in...   \n",
       "\n",
       "                        키워드                                         추천강의  \\\n",
       "0  회계, 재무회계, 회계정보, 의사, 신용의사  회계정보의활용, 기업윤리와사회적책임, 회계정보의이해, 스크린영어, 보이스앙상블   \n",
       "\n",
       "   Unnamed: 12  Unnamed: 13  \n",
       "0          NaN          NaN  "
      ]
     },
     "execution_count": 4,
     "metadata": {},
     "output_type": "execute_result"
    }
   ],
   "source": [
    "data = pd.read_csv('test.csv', engine ='python') # csv파일 올려서 사용\n",
    "data.head(1)"
   ]
  },
  {
   "cell_type": "code",
   "execution_count": 5,
   "metadata": {
    "id": "n5tpQKMDZ6mp"
   },
   "outputs": [],
   "source": [
    "# overview에서 Null 값을 가진 경우에는 Null 값을 제거\n",
    "data['영문개요'] = data['영문개요'].fillna('')"
   ]
  },
  {
   "cell_type": "code",
   "execution_count": 6,
   "metadata": {
    "colab": {
     "base_uri": "https://localhost:8080/"
    },
    "id": "CPf-R9cyZ8J8",
    "outputId": "f5489c9a-c27b-47a3-c45a-448a2de5b0dd"
   },
   "outputs": [
    {
     "name": "stdout",
     "output_type": "stream",
     "text": [
      "(309, 2578)\n"
     ]
    }
   ],
   "source": [
    "tfidf = TfidfVectorizer(stop_words='english')\n",
    "# 국문개요에 대해서 tf-idf 수행\n",
    "tfidf_matrix = tfidf.fit_transform(data['영문개요'])\n",
    "print(tfidf_matrix.shape)"
   ]
  },
  {
   "cell_type": "code",
   "execution_count": 7,
   "metadata": {},
   "outputs": [
    {
     "name": "stdout",
     "output_type": "stream",
     "text": [
      "['Acc', '251', 'Financial', 'Accounting', 'This', 'course', 'is', 'intermediate', 'accounting', '.', 'It', 'covers', 'basic', 'theories', ',', 'conceptual', 'frameworks', 'of', 'financial', 'statements', 'involving', 'assets', ',', 'liabilities', ',', 'and', 'owner', \"'s\", 'equity', '.', 'This', 'course', 'improves', 'ability', 'for', 'students', 'to', 'make', 'investment', 'and', 'credit', 'decision', ',', 'to', 'analyze', 'future', 'cash-flow', 'in', 'business', '.']\n"
     ]
    }
   ],
   "source": [
    "# 예찬 _ 영문 개요를 word_tokenize를 통해서 문장을 각 단어들로 쪼개서 저장함\n",
    "words = word_tokenize(data['영문개요'][0])\n",
    "print(words)"
   ]
  },
  {
   "cell_type": "code",
   "execution_count": 8,
   "metadata": {},
   "outputs": [
    {
     "name": "stdout",
     "output_type": "stream",
     "text": [
      "['Acc', '251', 'Financial', 'Accounting', 'This', 'course', 'intermediate', 'accounting', '.', 'It', 'covers', 'basic', 'theories', ',', 'conceptual', 'frameworks', 'financial', 'statements', 'involving', 'assets', ',', 'liabilities', ',', 'owner', \"'s\", 'equity', '.', 'This', 'course', 'improves', 'ability', 'students', 'make', 'investment', 'credit', 'decision', ',', 'analyze', 'future', 'cash-flow', 'business', '.']\n"
     ]
    }
   ],
   "source": [
    "filtered_words = []\n",
    "# 예찬 _ nltk에 있는 stopword를 필터해서 새로 저장함\n",
    "stopwords = nltk.corpus.stopwords.words('english')\n",
    "\n",
    "for word in words:\n",
    "    if word not in stopwords:\n",
    "        # 예찬 _ 새로운 filtered_words에 filter를 마친 단어들을 저장함\n",
    "        filtered_words.append(word)\n",
    "        \n",
    "print(filtered_words)"
   ]
  },
  {
   "cell_type": "code",
   "execution_count": 19,
   "metadata": {},
   "outputs": [
    {
     "name": "stdout",
     "output_type": "stream",
     "text": [
      "[\" Acc 251 Financial Accounting This course intermediate accounting . It cover basic theory , conceptual framework financial statement involving asset , liability , owner 's equity . This course improves ability student make investment credit decision , analyze future cash-flow business . \", ' artificial intelligence ', ' Introduction Deep Learning ', ' R-Py computing ', ' Machine Learning ', ' BUS 105 Introductory Statistics Business The course discus role statistic play decision-making process . It also cover basic principle step statistical analysis probability , probability distribution , sampling distribution , hypothesis testing ', ' Bus 1010 Understanding Corporate Accounting Information The objective course teach basic concept principle accounting beginning student accounting . The main content course consist role accounting information modern business , accounting standard financial statement . ', \" The purpose course develop student ' understanding mathematics widely used makel business decision . Linear algebra , matrix optimization technique discussed . \", ' BUS 213 Operations Management As discipline , operation management undergoing drastic change recent year . First , service sector currently outstrips manufacturing magnitude well importance throughout entire economy . Secondly , knowledge management became norm company kind . Naturally , follows service operation , intelligent manufacturing flexible automation come take greater importance ever . The course cover entire stage operation management system design , operating module determination , lastly implementation . ', ' BUS 223 Business Data Analysis The objective class improve student ’ capability analyze business data . This course introduces fundamental concept application business data analysis . From lecture , example , student learn basic subject matter required understand data analysis method business . Students learn data mining approach using statistical package , spreadsheet , artificial intelligence tool prepare analyze business data improve managerial decision making . ', ' This course focus developing student ’ capability creativity problem solving . Management problem need creative thinking people . Management problem happening area marketing , manufacturing , human resource management , etc . Aaalysis tool case introduced problem solving stage , problem definition , searching idea , customer need analysis . ', ' Introduction financial management principle . Includes brief survey financial market , time value money , valuation security , risk return , capital budgeting , financial leverage . ', ' BUS 350 Strategic Human Resource Management The function human resource management-selection , planning , procurement , development , utilization , compensation-with emphasis interrelationship among function . Strong emphasis put HRM discussion performance evaluation , job task analysis compensation plan development . HRM function venture firm digital business environment another important topic . ', ' BUS 241 Organization Behavior Emphasis action skill useful manager . Topics include management , communicating , motivating , innovating , managing group , use formal social power , persuading , dealing uncertainty . Special feature course include strong emphasis student participation , case analysis discussion regarding human behavior global digital business environment . ', ' This course provides broad overview important topic management Information Systems ( MIS ) . First , key technology MIS ( hardware , software , DBMS data modeling , telecommunication , Internet Web , DSS , expert system , neural network ) reviewed managerial point view . After understood technology , Strategic Information Systems , Business Process Reengineering , Electronic Commerce Information Systems Planning , Project Management , Organizational Inter-organizational Issues MIS explored . To study topic MIS comprehensively , case study discussed . This courage designed provide student balanced view management technology , student learn apply technology solve critical business problem real business world . ', ' Designed help student understand principle application dynamic management deal way wealth creation exploting existing business ( e ) exploring new business ( e ) well dynamic environment development strategic change mode . ', ' Business ethic CSR examine ethical principle moral ethical problem arise business environment . They apply aspect business conduct relevant conduct individual entire organization . Ethical issue include right duty company employee , supplier , customer neighbor , fiduciary responsibility shareholder . ', ' 1 ) Learn Consonant Vowel . 2 ) Learn phonetic transcription Chinese character . 3 ) Learn vocabulary sentence often used daily life . 4 ) Introduce various chinese culture . ', \" Six Sigma business innovation strategy implemented advanced foreign domestic company . Six Sigma expertise well CEO 's leadership considered major factor successful result . Green Belts one important human resource Six Sigma promotion need understand logical flow DMAIC roadmap learn technical tool basic statistic . DMAIC roadmap - Define : Define project 's purpose scope get background process customer . - Measure : Focus improvement effort gathering information current situation . - Analyze : Identify root cause confirm data . - Improvement : Develop , try , implement solution address root cause . - Control : Evaluate solution maintain gain setting control , standardizing documenting work method process , anticipating future improvement \", ' This course provides introduction design give basic understanding design function society , economy , culture . It explores various problem solving method aesthetical approach innovative technology , material , form , marketing , thinking . ', ' This course designed enhance understanding testing assessment technology , indispensable element technology development quality improvement , raise field adaptability student It examines technology procedure KOLAS ( Korea Laboratory Accreditation Scheme ) , reliability test , electromagnetic test , machine component test foreign certification system UL , CSA , etc . The target audience course junior senior student engineering science division undergraduate school . ', ' The object GLT2 student get trained educated enough overcome keen international competitiveness problem English global leader . More intensive deeper training education free group discussion . ', ' This course make possible student exchange information world best company , product , service major area . Students expand view world develop ability understand major area . This course also meet education goal Hanyang University expert , practical , cultural , global . ', ' As many smart-phones table PCs broaden us life , business ( messenger , game , finance , advertise , education , broadcast , music , portal , sport etc . ) provide mobile service using application . These quality - understanding Mobile Biz . trend & culture , developing Mobile App . - necessity order establish business work mobile business company . The study Mobile Biz . planning , competition analysis , creation profit basic skill application development make undergraduate posse quality good worker convergence major field mobile . ', ' Themodernwhichismorerequiredofacooperationwithopeninnovationisthoughtthatuniversitiesandcompanieswillhavetoapplyforapatentconcentratingonapatentforuniversitiesandtakingchargeofdevelopinggoodsastheprotectionofintellectualpropertyrightstoincrease.Alsoitisthemostimportantthatunderstandingaboutnegotiationtocommunicationefficientlyinsocialenvironment . Studentsinthisclassmightacquireaguidingconsiderationincombinationaimingtoaskforapatentforteams , asanalyticthinkingandotherscanunderstanditandnegotiationthinkingformoreefficientcommunicationharmonizes . ', ' ', ' This course suitable student learned computer aided design software . In class , student learn official rule regulation design practicing actual drawing , General introduction computer-aided design application industrial design . Creating design drafting , presets user-settings certain application , authoring design specification discussed . ', ' ', ' In spite rapidly increasing rate new information , time use look information getting decreased . Then , visual storytelling draw interest content user visually become powerful communication tool future . Visualizing content one constant human desire history . Therefore , visual storytelling mean producing whole story visual element analysing understanding information based communication design . This course primarily purpose providing basis look variety case , expression creative thinking help figure lead creative thinking context rapidly changing new content flooded , innovative technology thinking . ', ' Unemployment crisis due global economic recession one highly concerned issue Korean college student . NCS ( National Competency Standards ) based recruitment already accepted used public enterprise private firm , supported heavily government . The goal course understand NCS-based recruitment system improve employment capability analysing current strength weakness term job competency . ', ' It necessarily understand computer architecture optimally use computing language software tool develop embedded software . Computer Architecture includes instruction set , internal structure organized register functional block , system structure organized memory bus . Students learn detail CPU , memory , I/O device , control part organizes computer . Because provides limited range existing computer architecture course non-major student also easy understand course . ', ' Various topic related multimedia system application introduced . Topics covered include organization structure multimedia system , image/video data representation , image/video data processing , image understanding , visual intelligence , machine learning , image/video coding , audio processing . ', ' ', ' ', ' ', ' ', ' ', ' ', \" This course designed develop student ’ faculty understanding complex issue ability clearly express thinking . Students provided opportunity practice skill presentation , discussion , debate , interview receive feedback performance class . Following , student learn present reasoned argument better understand accept people 's opinion . \", ' This course designed develop student ’ faculty understanding complex issue ability clearly express thought writing . Students trained write correct sentence format text various genre , receive feedback performance class . Following , student learn present reasoned thought effectively . ', ' This course provides concept computational thinking foundational computer science . For student noncomputer science major , course focus use effective example analogy using principle computer science . In addition , course demonstrate way concept applicable field endeavor keep material accessible relevant noncomputer science major . ', ' CUL132 Introduction modern music Selected contemporary materworks introduced discussed . They cover established work early part 20th century recent music various conturies . ', ' ', ' Chang , drum , kotsuzumi , Shaw , subject established purpose mainly training folk percussion batting Korea . ', ' This course student want knowledge basic priciples law professional law . ', ' The purpose course discus various physical phenomenon everyday life term basic concept physic . Some topic course physic housewares , sport , body , communication , state-of-art technology . ', \" Earth composed Amugu~on biosphere , hydrosphere , abstention one planet solar system , close relationship , much changed since formation earth naturally . Geological epoch earth creation process , classification structure formation process Earth 's interior material , mineral rock , formation deformation crust plate tectonics , change nature , changing process indicator included general term . In addition , appearance human , addition artificial element new factor , 20-30 year recent scientific civilization developed , particular , began act global environmental change . Intended thoroughly familiar content above-mentioned component Earth , comprehensive understanding effect . \", ' This subject designed foster writing skill needed effective communication college social life . The first part lecture cover general theory writing requirement good writing , topic writing , composition overview , correct sentence writing spelling , second part lecture consist curriculum actually write essay necessary college social life , writing introduction letter , writing academic report , writing SNS , writing report , writing report , depending purpose writing . ', ' communicating people hearing speech impairement able help understand culture hearing disorder speech disorder learnning sign language . ', ' Dancesport originally used changing word folk dance , court dance , old time dance , ballroom dance , It refers artistic system substance content dance purpose medieval socialization defined present form time dance becomes popular . Therefore , learn moral value courtesy order , need breathe new partner . Through dance sport , student experience active physical activity sense aesthetic expression , thereby acquiring abundant artistry physical mental health . In particular , learn express feeling body performing dance sport accordance music . ', ' Through step class , beginner get concise precise information fundamental everything , skill , strategy , rule , help implement step way . Can also learn skill applied basic principle analyze course adapt , ultimately minimize mistake maximize potential skill classroom . ', ' This course enables student : 1. able comprehend real-life dialogue movie exclusively produced native speaker English . 2. pick useful expression familiarize use daily conversation English . ', ' CUL 341 Use Accounting Information This course teach basic concept accounting information nonmajor student . The main content course consist understanding financial statement ( balance sheet , income statement ) , statement cash flow , credit evaluation , stock evaluation accounting news listing firm stock market . ', ' Windsurfing type ocean sport requires one ride standing surfboard attached sail . It namely known sailing board-sailing . While riding wave sea , one get experience great excitement entertainment . To become skillful surfer , one need try consider himself/herself part board , sail , ocean . Within attitude , one gradually acquire overall balance well control sail-board . ', ' Let student analyze reason injury learn protect people injury , first aid , study way prevent injury studying disability , recovering fatigue , surgical disease . ', ' learning activity . In course , weekly introduction lecture , present diverse direction look soccer dialogue institutional aspect , realistic aspect social issue soccer . Functionally , learn basic tactic soccer recreational mini tactical game . The game based existing rule game , always adopting new rule advantage girl , limitation number ball touch , I want get away competitive soccer participates result defeat . Through activity , sportsmanship , role recognition group , devotion cultivated value satisfaction true leisure activity raised become foundation lifelong sport . ', ' This introductory course provide general overview game tennis beginner tennis . Therefore class continue focusing developing skill forehand stroke . In addition , class cover various skill technique , rule , regulation , etiquette pertaining participating tennis class , time permitting . ', ' It course study sport recreation activity simultaneously field human movement . Therefore , leatn training basic skill match management based quickness . ', ' It course study sport recreation activity simultaneously field human movement . Therefore , leatn training basic skill match management based quickness . ', ' The study design & life student interesed beauty-life want study fild-design . The student ability analysis design life . ', ' The course present basic concept historical thinking show overview history Western music . It explores musical style work representative composer history , relationship music socio-cultural background era . ', ' This class designed e-learning course lead student reconsider comprehensive perspective question understanding aging shape identity culture . Well beyond confines constraint traditional category race , gender , class ( so-called holy trinity ) humanity social science , new study age help u understand life profoundly level academic research everyday life . Accordingly , class run encourage interdisciplinary practice weaving together literature , history , philosophy well art , music , film unique combination articulate cultural history age . Ultimately , student required come blueprint life plan life course . ', ' The educational goal challenge young people lead finding new opportunity discovering new self-directed life plan . They learning young entrepreneurship change global economy future industry . Also , learning field young entrepreneurship possibly successful . They mentored professor develop present business idea organized team . The lecture type formed inviting professional lecturer , increasing practical sensation upon subject matter . Evaluation type formed project team business idea presentation instead theoretical experimental . ', ' There seems lot excitement day start-up . One biggest problem new business owner face law concerning start-up . If founder know law , range possibility enormous . Our course door success start-up . This lecture focused Business Building Lease Protection Act , Personal Information Protection Act , Value-Added Tax Act , Income Tax Act , The Patent Law , Trademark Act , Copyright Act , etc . ', ' We , candidate start-up , want learn basic idea generation skill . ( 1 ) What ideation ? ( 2 ) Idea generation methodology ( 3 ) Brain storming idea generation ( 4 ) Visualization idea generation ( 5 ) Pitching & Feedback ( 6 ) Idea Visual method ', ' - rise Korean ability - provide TOPIK ( 4class ) ', ' We , global business men , want learn important global environment & opportunity . ( 1 ) What international business ? ( 2 ) Globalization market internationalization firm ( 3 ) Theories International Trade Investment ( 4 ) The Cultural , political & legal Environment International Business ( 5 ) International Business negotiation ( 6 ) Regional Economic Integration ( 7 ) Global Market Opportunity Assessment ', ' We exist middle machine , simply use machine . The machine mere tool , operates prosthesis close upon human body , fundamentally changing human awareness personality . It brings u called apriority machine mean machine even born . In context , work investigating criticizing machine identical work reflecting time space . In course , various machine analyzed detail , bus , train , tanker , camera , radio , copy machine , internet , CCTV , aircraft carrier , missile etc . Finally , course aim practise reflecting changed life awareness machine . ', ' This lecture-lab course learning basic marketing research method global startup . The main thesis following . 1 . Knowledge Global marketing concept & international business environment . 2 . Understanding marketing research process & data manipulation . 3 . Understanding basic data analysis method 4 . Learning marketing research experience & overseas business practice general manager . ', ' This class brings star-up entrepreneur interest startup , reluctant run due deficiency start money others wih 100 thousand support . Students organise foursome team run business 100 thousand . Each team learn discrepancy plan real market analyse . Students make fault plan re-try market . Students learn market oriented startup management , understand market customer demand , find way meet market demand class . ', ' This course support higher grade student increase competence employment analyzing industrial trend . The goal course maximize ability analyze brand-new industry , corporation issue , crucial choosing career job interview . ', ' ', ' ', ' This course creatively integrate classical reading , future sociology , self-development . In first half lecture , concentrate storytelling based reading classic , public relation ( PR ) storytelling , fusion classical reading . In latter half lecture , explore possibility self-branding classical reading , knowledge editing , communication method age high context . Students take course find good classic various field experience interaction others . Students read classic also experience interpretation process consistent imagination modern people . In process , student able communicate student various university could build communication skill , raise content analysis ability grow competency planning future . ', ' The lecture aim discover understanding value human being classic life general . The lecture made omnibus lecture , lecturer various field give lecture . The lecture introduces classic introduced celebrity , allowing student read three book per semester write classical introduction lecture note . Students create share video introduce classic life like celebrity , set memorandum reading sharing book digital era . ', ' We living era people familiarized singing culture mainly due popular vocal contest TV program . This course provides easy entertaining way getting used singing technique learn foundation musicianship . The method used course choir style singing method . ( multiple singer singing group）which best way learning vocal technique without much pressure often experienced vocal taught one one lesson context . ', ' Through process , student clear vision life successful college life concrete blueprint achieving vision . Also , based value , clear understanding career path right direction social advancement . It enables student develop necessary competency university life growth rather success . This course help student acquire necessary skill required knowledge society industrial field 4th Industrial Revolution effectively apply real life . ', ' 1 . The Orient , Occident Encounter section examine concept Orient Occident formed perceived history . 2.The section titled The Silk Road Venue Civilization Exchanges explain various concept Silk Road actual aspect civilization exchange along road . 3 . The section titled A Prelude Silk Road : Zhang Qian ( 張騫 ) Ban Chao ( 班超 ) examine opening prosperity Silk Road focus political role relation Han ( 漢 ) Dynasty Huns ( 匈奴 ) trend neighboring country bordering Western China . 4 . The section titled Goddess vs. Goddess : Fragmented Thoughts Goddesses Myths Orient Occident compare Occidental myth Oriental counterpart keyword goddess . 5 . The section titled The Stories Nomads : The Horses , Silk Brave Women discus various viewpoint see different culture including agricultural nomad culture . 6 . The section titled The Introduction Buddhism Christianity : Over Tianshans ( 天山山脈 ) follow process two foreign religion , Buddhism Christianity , introduced China transformed naturalized country . 7 . The section titled A Special Empire Tang ( 唐 ) : The Spring Changan ( 長安 ) check various aspect Changan , center cultural exchange Orient Occident . 8 . The section titled The Paper Road : We Are Going Open Society examine study ideology including paper making printing spread Orient Occident influenced history . 9 . The section titled Opening Sea Route : An Encounter Orient Occident Travel Journals examine travel journal written Oriental Occidental figure thus check aspect perception different cult ', \" Love placed position sphere human relation social system structured restructured historically . Love belongs sphere covert private human emotion yet established position dynamic keyword measure produce daily life , culture , ideology society . In light , exploration 'love ' allows u aware way main principal 'myself ' others , 'myself ' 'society ' build relation well human established meditated certain social condition . This lecture , mediated literature based humanistic approach mean philosophy love sociology , explores phenomenon love diverse perspective . This lecture , explores meaning love angle literature , philosophy well Marx , theory evolution brain science , seek realize convergence diverse study natural science , liberal art , art society , time integrate knowledge various field . The lecture , largely dividing content Greek period , Middle Ages , Romantic period modern time , examines essence extraordinary experience love seek place meaning sociohistorical context . \", ' ', ' ', \" This on-line course aim prepare student TOEIC test providing ample exercise according result four on- off-line examinations.In addition , 20 on-line lecture English grammar vocabulary provided order enhance student ' general English proficiency improve test-taking skill . \", ' This on-line course aim provide student already taken Cyber TOEIC 1 opportunity practice test-taking skill preparation TOEIC test . Students individually provided variety exercise according result four on- off-line trial TOEIC examination . They also given 20 on-line lecture English grammar vocabulary essential TOEIC test . ', ' ', ' ', ' ', ' ', ' ', ' This course provide student ability-based class : beginning , intermediate advanced . This course focus developing student ’ English communication skill interaction interesting engaging topic . With emphasis speaking listening , four language skill covered : listening , speaking , reading writing . Lectures include grammar review , drill , interactive exercise expand sharpen student ’ English ability . ', ' This course provide student ability-based class : beginning , intermediate advanced . This course focus developing student ’ English communication skill interaction interesting engaging topic . With emphasis speaking listening , four language skill covered : listening , speaking , reading writing . Lectures include grammar review , drill , interactive exercise expand sharpen student ’ English ability . ', ' This course provide student ability-based class : beginning , intermediate advanced . This course focus developing student ’ English communication skill interaction interesting engaging topic . With emphasis speaking listening , four language skill covered : listening , speaking , reading writing . Lectures include grammar review , drill , interactive exercise expand sharpen student ’ English ability . ', ' This course provide student ability-based class : beginning , intermediate advanced . The main goal course provide strong knowledge base English build future . We focus vocabulary , expression , pronunciation grammar . The student asked converse write different topic class , also chance free talking writing within framework given lesson . ', ' This course provide student ability-based class : beginning , intermediate advanced . The main goal course provide strong knowledge base English build future . We focus vocabulary , expression , pronunciation grammar . The student asked converse write different topic class , also chance free talking writing within framework given lesson . ', ' This course provide student ability-based class : beginning , intermediate advanced . The main goal course provide strong knowledge base English build future . We focus vocabulary , expression , pronunciation grammar . The student asked converse write different topic class , also chance free talking writing within framework given lesson . ', ' English Academic Purposes 1 : Integrated Skills tailored benefit student ’ English ability related major specific need , connect skill learned EAP 2 . This course involves discipline-specific academic-level reading supported discussion , presenting , activity . The aim EAP 1 enhance reading speaking ability necessary course work future workplace . ', ' English Academic Purposes 2 : Writing tailored benefit student ’ English ability related major specific need , connect skill learned EAP 1 . Essential planning , writing , editing skill developed topic may also include digital literacy business writing . The aim EAP 2 enhance compositional ability necessary course work future workplace . ', ' ', ' This course broad overview eclectic approach brings contribution behaviorist , cognitive , humanistic psychologist educator bear teaching experience . The study topic contain practical application basic principle infant , child , adolescent development , learning process , memory , motivation , cognition , affection . The purpose course provide detail overview educational topic issue . For example , includes instructional objective , instructional design , individualized instruction , educational testing measurement . ', ' ', ' Philosophical base educational practice ; application theory . Education ancient present time ; modern education . ', \" This course intended promote future teacher ' ability guide counsel student school setting . Topics covered include various counseling theory , basic counseling guidance skill . \", ' ', ' ', ' Roles function school administration local national level : organization , personnel , financial aspect educational administration . ', ' ', ' ', ' ', ' This course place emphasis understanding foundation special education . The goal course prepare future teacher teach understand issue involved physical , mental , psychological handicapped child , gifted talented . The preservice teacher able teach student different need prepared deal issue teaching classroom . ', ' ', ' ', ' ', ' The course designed observation participation in-school-teaching student teacher . ', ' Discusses given task modern education , educational technology , practice relevent instructional method approach exploring general content , course principle practice educational technology , status current education . ', ' ERICA Work Placement educational curriculum developed together industry resolve problem skill mismatch student industry . This course intended provide work experience opportunity acquire relevant skill career exploration hands-on experience major-related on-the-job training summer/winter break domestic international company . ', ' ERICA Work Placement educational curriculum developed together industry resolve problem skill mismatch student industry . This course intended provide work experience opportunity acquire relevant skill career exploration hands-on experience major-related on-the-job training summer/winter break domestic international company . ', ' ERICA Work Placement educational curriculum developed together industry resolve problem skill mismatch student industry . This course intended provide work experience opportunity acquire relevant skill career exploration hands-on experience major-related on-the-job training summer/winter break domestic international company . ', ' ', ' ', ' ', ' ', ' ', ' ', ' ', ' ', ' ', ' This course examines management accounting practice directed towards effective use organisational resource focus interrelated theme : design operation management accounting system planning control analyzing profitability , cost analysis role management accounting practice supporting effective resource management process improvement also manner practice affect affected human process within organization short term decision making process . We aim encourage critical thinking issue cost- benefit analysis , improve student ’ ability address confidence creativity professional work-based context long term decision making . This course examines advanced management accounting practice may constrain enable process creating , managing measuring stakeholder value . ', ' General survey operation economic system ; emphasis given pricing allocation resource , product , economic growth , development . ', ' In class learn basic expression grammar Spanish language , starting reading writing alphabet . All lecture given Korean , posse intermediate level listening understanding . ', ' Based foundation learning elementary Chinese Chinese reading , listening , speaking level intensify education . In addition basic knowledge Chinese culture region textbook containing overall content Chinese society culture . ', ' This course designed provide student experience necessary increase fluency enhance accuracy English conversation . Led native English-speaking instructor , student conduct wide variety professionally oriented project group discussion . This class intended advanced level student , wish strengthen ability participate contribute worldwide , English-based exchange information . ', \" The aim course , explicating modern contemporary history Korea , understand internal developmental course Korean society distorted western imperial power AND japanese clonial rule . Moreover , systematically syntheitcally understanding Korean society 's structure , social idea social movement , emphasize Korean people actualized potential people spite external oppression . \", ' Culture key issue 21 century . Living industrial society , need general understanding culture . Without comprehension craft design created . Therefore , student study correlation craft design culture , learn cultural aspect race , region custom affect craft design . ', ' ', ' ', ' This course teach basic concept personal income tax nonmajor student . The main content course consist understanding personal income tax calculation , capital gain tax , value added tax , etc . ', ' This course intended student college engineering science understand fundamental concept application basis relevant field . It cover several basic topic function , sequence , infinite series , differentiation , derivative , integration . ', ' This course designed overcome hardness studying general physic course . The physical principle concept treated basic level . This pre-course help freshman student familiar college level physic study . ', ' AdvancedPracticesofComputerUse Thepurposeofthecourseistoteachstudentshowtoobtainandanalyzeinformation , applyadvancedapplications , researchatopic , generateareport , andpresenttheresults.StudentswillalsolearnmanyMicrosoftsoftwareapplicationsprograms , suchas : Excel , Access , PowerPoint , andPublisher . ', \" ComputerGraphicsonApplication ComputerGraphicsinApplicationintroducesthebasicconceptsofcomputergraphicsanditsapplication.Inthiscourse , studentslearnbasicPhotoshopuserinterfacefunctionsandcustomization , andbasedonthis , studentscandeveloptheircreativityinwebdesigning.Also , inthiscoursestudentslearnaboutFlashMX2004 , whichisaleadingtoolforcreatingvectorgraphicsandinteractivemultimediafortheWeb.StudentswillexploreFlashMX'sdrawing , tweening , animation , andaudiocapabilitiestobuildinteractivecontentthatwillmakeaWebsitecomealive . \", ' ', ' ', ' The object course exclusive use English English learner cultivate quality global leader discussion presentation rapidly changing world situation form criticism article open mass communication ( newspaper , magazine & broadcasting ) ', \" This course designed provide top manager ' knowledge ecperience student experience business world . 16 top manager invited semester . \", \" Working 3hours day 3 day per week volunteer . Provided activity field local school area , farming fishing village , Social Community Welfare Centers , Citizen 's association , consumer association , woman organization International organization giving service work type arranging library book , braille book typing , TV/commercials monitoring , constructing house homeless , information service work event , election observation , helping farmer ' busy season , flower garden greenhouse managing , educational assistance handicapped child , separation raised money coin etc ... All practical training work aimed give proper spirit volunteering . \", ' ', ' Life dance ballet , modern dance , basic Korean dance , rather dance performed stage , pure dance , yoga substantially life , Pilates , dance , sport , jazz dance , hip-hop dance , also speak , broadcasting dance . ', \" `` What source creativity ? '' `` mechanic creation ? '' This course provides exciting challenge get answer question . In general , creativity act turning new imaginative idea reality . This course designed enhance creativity sparking imagination present 10 basic principle exert competency . Through process , may confidence creativity exclusive property genius achieve imagination creativity developed wealth experience open mind . \", ' Reading understanding novel finding human , phenomenon world truth , recognized way . This subject aim choosing good novel , understanding analytically appreciating artistry literature . ', ' ', ' This class open international student China . This class conducted Chinese aim deeply understand Korean culture behind Korean Wave phenomenon . ', ' Recently company strengthened interview We need prepare properly interview . Analysis interview process evaluation criterion important . We practice many different type interview ( example , Competency-based Interview , Discussion & Presentation interview etc . ) prepared . Through Subject , learn practical sense interview . ', ' Chemistry Everyday Life ', ' This course provides Java language programming developing android App , setting development environment android App , various UI design mobile app using XML code . Also cource contains add modify menu , dialog , toast , event processing widget android App . ', \" This class first course `` Web Service Producer '' designing understanding principle web page , HTML5 , CSS Javascript . This class practice standard web coding , acquired basic skill web page creator . \", ' In course , programming Python , learn process import data basic technique perform data processing analysis project practice . ', ' This course explores essential communication ( behavior ) develop , maintain , advance disintegrate human relationship . Specifically , class focus various attribute , including communication motivation , affinity , initial stage meeting , argumentativeness , communication apprehension , verbal aggression , nonverbal behavior , self-disclosure , deception , social medium communication . Theoretical knowledge practical performance pursued class . ', ' This course aim provide fundamental concept management business strategy company endeavoring survive constantly changing business environment . This course introduces various case enabling student familiar management concept understand relatively easily well student hope review relevant concept . Although business environment constantly change , corporation need stick fundamental concept management business strategy create new management business strategy based traditional management business strategy . From perspective , course introduces traditional business methodology well old one relevant case . Through material , course aim provide student intuition capability create new management business strategy . To accomplish objective , course introduces theoretical concept , derived business strategy , corporation adopt strategy real world . ', \" This ability-based course ( beginning , intermediate , advanced ) provide student opportunity improve reading skill needed taking major class . This course designed focus reading , 'll deal general knowledge English listening , speaking writing . Therefore , course , student improve overall English communication skill . \", \" This ability-based course ( beginning , intermediate , advanced ) provide student opportunity improve reading skill needed taking major class . This course designed focus reading , 'll deal general knowledge English listening , speaking writing . Therefore , course , student improve overall English communication skill . \", \" This ability-based course ( beginning , intermediate , advanced ) provide student opportunity improve reading skill needed taking major class . This course designed focus reading , 'll deal general knowledge English listening , speaking writing . Therefore , course , student improve overall English communication skill . \", ' This class offer basic concept film industry origin , history independent film . By learning basic film criticism , student practice various methodology understand independent film . In class , student critically analyze independent film , animation , short film . ', ' ', \" Now , Big Data Age , effort extract useful information data analysis taking place various field . R program used data analysis It program widely used society including public institution , highly valuable future use . So , course introduces use apply R program big data processing visualization . The lecture progress theory practice repeatedly , analysis case code enhances student ' understanding . \", ' In class , understand hardware structure software principle drone , make drone applying open source ardupilot , multiwii , etc . ', ' This class teach programming skill develop Android application . Including preparation implementing Android app. , learn coding user-customized dialog , fragment , accelerator communication AdapterView , file I/O . Finally , able release apps store . ', ' In class , learn build web service understanding Web WordPress , typical CMS ( Contents Management System ) . You learn install configure WordPress engine , register page post , register comment , set administrator page , set theme . In addition , construct web service searching , installing , setting plug-in provide various function SNS linkage search engine . ', ' ', ' The following covered : 1 . The concept current technology Blockchain . 2 . The development Blockchain technology predict change future mankind . 3 . Philosophical thinking suspicion Blockchain technology philosophical analysis method . 4 . Development social consensus Blockchain technology naturally learn follow philosophical value . ', ' The purpose course develop creative problem solving ability undergraduate engineering humanity . For , learn basic concept coding using robot improve creative thinking experiencing various method problem solving direct design practice . In addition , necessary develop ability design given problem term ability improve systematic problem solving method solve problem . To utilize appropriate tool realistic constraint , need improve ability contribute team performance team member . ', ' This course designed provide student opportunity comprehensive understanding various aspect ethical issue 4th industrial revolution . The following subject discussed 1 ) general concept ethic meta ethic generally deal . 2 ) various ethical theory dealing general issue ethic ; moral judgment , moral obligation , action-related value evaluation , etc . 3 ) ethical concrete problem 4th industrial revolution possible solution . [ The aim course ] 1 . The understanding basic concept ethic . 2 . Introduction various ethical theory . 3 . Grasping ethical situation created 4th industrial revolution . 4 . The development critical thinking ethical judging ability . 5 . A discovery better life . ', ' In course , student exposed variety thought-provoking dynamic YouTube multimedia video clip . These video variety issue theme ever changing society . Students opportunity discus impact meaningful video society personally relate . By , student chance improve English language proficiency learn understand interpret issue express his/her idea based learning experience . ', ' ', ' We going understand bitcoin applies blockchain public-key cryptography simple coding Python . First , learning basic concept blockchain , going code simple version blockchain . Second , learning concept public-key cryptography , going code simple version elliptic curve cryptography . We going think future financial industry internet blockchain technology widely applied . ', ' ', \" Recently , due seriousness micro dust recycling garbage disturbance , people 's interest environment increasing . Learn environmental condition planet affect environment . We also provide opportunity student protect environment providing opportunity think protect improve environment resource must pas future generation . \", ' Microbiology field life science study living thing called microorganism . It science applied welfare mankind preventing infectious disease disease caused microorganism utilizing ecology physiology microorganism . Among microorganism , causing disease human called microorganism . Microorganisms hospital intended diagnose , prevent treat infectious disease . It course understand relationship microorganism human being life coexist . ', ' ', ' ', ' ', ' Based 20 year experience martial art training practice , course provides athletic understanding adaptation taekwondo ( battle taekwondo ) self-defense ( combat JiuJitsu ) technique student , completes physical exercise scientific training method completion self-defense . In addition , anyone understand strong physical training method taekwondo self-defense class effectively defend case emergency . ', ' ', ' This course aim understand principle PLC ( Programmable Logic Controller ) , key element automation smartization process , essential productivity improvement smart product development required 4th Industrial Revolution . In course , PLC taught major grade . This course performed group lesson , class performance evaluated understanding class content creative idea task using class content . This course calculates grade absolute evaluation method calculates grade attendance , class participation , practical report , quiz final project evaluation . ', ' ', \" This course involves careful examination nine Enneagram personality type . Emphases finding personality type , understanding relationship developing one ’ behavioral emotional maturity Enneagram . Course Objectives 1 . To help student learn significance Enneagram finding one 's personality type . 2 . To help student systematically learn strength weakness personality throughout class . 3 . To help student reflect , develop personality , live life fullest Enneagram . \", \" It already common knowledge human being 'human right ' . Internationally , level human right country become standard assessing level development country , domestically , woman , sexual minority , person disability , youth discrimination addressed name 'human right ' . Therefore , education understanding 'human right ' contribute development society formation gaze look various problem society . The concept 'human right ' product Western modernity overcome Western medieval time , Christian power feudal lord ruled ordinary people . Modern philosopher John Locke claim every human ownership product work , extension body body . And concept 'human right ' thus begin ownership individual 's body property . However , emphasis 'individuals ' 'ownership ' obstacle realization 'human right ' . These factor lead idea Jean Jacques Rousseau , criticized inequality ownership , Olympe de Gouges , claimed right woman equal men , Karl Marx , claimed worker ' right . Furthermore , Hannah Arendt 's reflection right non-citizens human being derived . It present 'human right ' formed melting philosophical thought represented people . This ideological review philosophy human right make possible understand meaning various right included 'human right ' , also touch various perspective look world . On hand , 'human right ' , product western modernity , accepted though familiar society , even though concept found Asian society . At bottom acceptance consciousness 'human right awareness ' traditional E \", ' This class course learn human right . The important thing democracy human right . College student , course , aware human right . ', ' The purpose course enable student get sense current issue improve reading skill studying word expression commonly used English newspaper . In course , better understanding news story , student learn several strategy figure meaning headline , predict story headline identify structural feature article . ', ' The 4th Industrial Revolution realized convergence various technology , robot technology including autonomous vehicle drone key component 4th Industrial Revolution . Through basic learning practice robot , autonomous vehicle , drone , expand understanding 4th Industrial Revolution provide foundation learning . Through lesson , student learn basic concept robot understand component robot . Classes consist theory lecture robot , autonomous vehicle drone , production exercise using kit , robot programming mission performance . ', \" Recently , large company , public institution , financial institution expanding recruitment `` data planning analysis '' job regardless major , learn basic knowledge big data undergraduate , Lectures theory practice . After attending course , improved employment capacity acquiring national certification qualification 'Data Analysis Specialist ( ADsP ) ' . \", ' TED Talks help student make connection , develop critical thinking , gain global perspective various topic . The talk launching point engaging rich discourse , debate , well student create TED-style talk . The TED Talks interesting stimulating student assist developing idea giving student language skill need express best possible way . This include watching talk well examining language used style delivery . TED nonprofit organization stand Technology , Entertainment , Design . TED Talks video influential global thinker presenting TED conference . They offer wide variety informative , educational inspiring talk new idea - covering variety topic science business global issue . TED Talks 18 minute le relevant broad international audience . ', ' ', ' ', ' YouTube sole eco-system well crucial tool modern human life . It became part lifestyle anyone access everywhere ( nearly ) ever since started history short video elephant . There business culture growing based YouTube . This course aim understand function YouTube , changing trend realtime affect medium , entertainment industry society . ', \" The question value justice main subject Eastern Western philosophy one considers academic classification contemporary era . In way , Students first foremost learn basic definition philosophy study different value widely accepted human society ancient time nowadays . At beginning semester , learn community-centered value `` human Polis , '' ancient city-state West , God-centered value Middle Ages , modern value individualism democracy , secular post-secular value , artistic-aesthetic life alternative value study Confucian Taoist value Buddhist value formed mainly East Asia . At end semester , study several principle ethical social justice based various understanding value . So , learn utilitarianism , liberalism , deontology , communitarianism , socialist justice , etc . Finally , based understanding value justice , also briefly reflect desirable attitude living today 's fourth industrial revolution era . \", ' ', ' This course designed student want develop writing skill business professional purpose English . The focus especially laid improving ability student use proper expression accurate structure various form writing . Also , student opportunity practice writing English resume , letter , summary , type writing class . This course give student opportunity practical writing ability practice lecture . ', ' This class subject learn ability understand sentence structure academic English comprehend according Korean grammar order read major course original text . ', ' This course examines various human relationship experienced life psychological aspect , illuminates modern life human relation , psychological understanding human relation , improve human relation , communication skill provide overall understanding human relation skill . ', ' In course learn basic expression grammar Spanish language , starting reading writing alphabet . Spanish native speaker prohibited taking course . All lecture given Korean , posse intermediate level listening understanding . ', ' This course beginning course Japanese . The goal learn word , grammar expression suitable beginner course develop basic practical Japanese learning skill quiz practice role play practical conversation situation . These course allow student acquire basic Japanese language knowledge required foreign language ( Japanese ) learning , also ‘ Japanese communication skill ’ . ', ' ', ' Taekwondo various technical system sparring , demonstration , form , self-defence technique , widely used mean self-defense . In class , aim introduce real-life applicable self-defense skill student learn martial art principle effect power Taekwondo . Thus , learning Taekwondo self-defense skill , one learn five tenet Taekwondo ; courtesy , integrity , perseverance , self-control , indomitable spirit . Also , one learn understand care others learn cultivate sociality mind-set physically defending oneself caring others . ', ' The purpose Refinement French enable student learn basic feature French language French culture ground Republic France cultural center European Union . General characteristic French grammar lie logicality . So recognition understanding nowadays required . In subject , study French grammar various approach ? conversation , cassette tape , videotape cultural French ( Touring , Chanson ) . French orthography , pronunciation , grammar , basic phrase among others dealt course . ', ' The outline 2020 physical fitness training , fitness training class , aim improve athletic ability ( body strength ; behavior plus defense ) planned reinforcement training focusing basic physical professional physical training theoretical background definition weight training training using weight training equipment souffle equipment . Through physical mental health , health confidence college life employment graduation , I want challenge future help creative activity . ', ' There life without entertainment . The amusement Homo Ludens enjoyed ancient time developed huge industry modern time become major concern world . From classic blockbuster emergence OTT streamer , territory vast ? ? industry continues expand today . This course aim understand structure field modern entertainment find way link practical business practice . ', ' ', ' In class , student learn many skill think logically . By learning basic concept rule argument , basis logical reasoning , learn fall unnecessary error discussing talking , develop ability discus communicate effectively . To practically use capacity , also examine controversial issue society 2020 look argument ground pro- opposition camp surrounding topic . ? By finding argument camp unjust , student applied ability logically think various area life . The final goal class extend power argument practical art necessary better life . ', \" In era Fourth Industrial Revolution , digital medium technology changing rapidly . Following smart medium , emergence spread artificial intelligence greatly changed user ' use news . News produced real time various medium , form delivery method also diversified . In addition , professional journalist also general public actively producing news , reaction user immediately expressed shared . In addition , change medium environment evolution news production , distribution consumption dismantled meaning traditional news production consumption , huge amount news penetrated everyday life caused interaction . In situation , ability correctly understand value message contained news important . Therefore , lecture , understand behavior influence news use era fourth industrial revolution learn analyze news wise news shortcut possible . \", \" There various culture speciality 's impossible measure one good . Yet , tend regard Western culture best value criticise culture based Western value , usually come lack knowledge world . This lecture intends provide student much information different culture make student see world without delusion . The goal lecture following ; 1 ) Explain multi-culture 2 ) Explore cultural relativism several case study . 3 ) Build value-free viewpoint world 4 ) Find condition coexistence . \", ' ', ' Through history human settlement , study origin architecture according human existence . In process understanding meaning architecture ‘ bowl human life ’ , course examines process form value expressed understands process forming city building architectural space . Students understand principle method constructing building various space city reading architecture , reading city , reading urban space cultural artistic space . Recognizing relationship urban space human life , student found intimacy urban space daily life finding way enjoy architecture urban space connecting life urban space . ', ' ', ' ', ' Media literacy education education medium . It creates human ability properly understand power medium , use value , communicate creatively actively . This course examines theory concept medium literacy education introduces category , object , field medium literacy education . We discus various concept digital literacy term importance ability use digital medium , study example medium literacy education understand digital literacy . Finally , train ability respond fake news . ', ' Artificial intelligence one discipline developed since 1940s . This course introduces principle application deep learning , recent methodology implementing artificial intelligence . Through learning principle application deep learning , consider social impact artificial intelligence relationship human artificial intelligence future society . ', ' ', ' To prevent something composition environment , ecosystem character , relationship human environment , urbanization , community development , dam , street construction etc.. environmental problem , Students taught various part law regulation government environmental development policy . Development environment integrity easily contradicted , learn harmonize two term . So student think ESSD ( Environmentally Sound Sustainable Development ) , make student environment conscious pollution prevention . ', \" Recently , society begun seriously rethink problem Gender . From Megalia ＃Metoo Kim Ji-young , born 1982 , cultural content seriously reflected woman ’ problem various reenactment time today ’ `` Feminism Reboot . '' Gender ’ topic conversation , fraught hatred hatred , `` '' time , `` family '' time , voice alienated `` tyrant . '' The class outline discussion feminism progressed Korean society present , measure direction feminism move forward discovering voice reproduced gender various cultural content . \", ' In order understand musical , important first explore root . We discus history performing art genre opening play , opera , vaudeville , among thing , beginning musical . Since , musical actively explore evolved become based regional genre feature , along video material . In particular , also talk Western genre musical came Korea localized secure place . ', ' This class provides general understanding relationship modern art historical change . We study major movement , paradigm , document modern art 19th century appreciate work art formally sociologically . The course address complex set aesthetic , technical , political motivation period shaped artistic production select figure movement . ', ' People often fully understand beauty , beauty importance beautiful life . However , human never lived apart beautiful creation , shown case rudimentary painting work excavating prehistoric cave . Because almost everyone , although specific form , lived pursuit something beautiful . In lecture , student learn beauty important historical theoretical understanding aesthetic , asking beauty art . For deeper theoretical understanding aesthetic , figure historically great philosopher thought beauty . It also provide opportunity student reflect beauty practice , citing example artwork necessary course help student understand . Through learning , student learn beauty , important , enjoyed . ', ' The class learn scientifically analyze social phenomenon using SPSS ( Statistical Package Social Sciences ) statistic package . By visualizing various statistic , SPSS easy statistical program useful even student humanity social science lack mathematical statistical knowledge . So student able scientifically measure analyze social phenomenon . It also helpful prepare social research analyst level 2 effectively . ', ' ', ' ', ' 1 . This course focus expanding knowledge understanding Western modern contemporary history . This course cover development politics , economy , society culture period . 2 . Classes basically form lecture use audio-visual material ( movie , documentary ) related subject . 3 . If possible , presentation discussion class held together . ', ' Western civilization developed far based rationality . Today , rationality limited accepted sort universal norm thought action prevails throughout westernized modern world . Western thought long revolved around theme rationality . This course deal western thought subject metaphysics , ontology , epistemology value theory chronological order . Through understanding western thought , understand aspect western civilization also western way thinking already established mind . Also , examining criticism rationality western thought , prepare opportunity reflect present situation . ', ' Rhetoric communication method affect thought action others persuasion communication . Aristotle preached importance rhetoric , demand rhetorical persuasion higher today ever . Unlike past , using power threat carry personal , modern time rely communication skill . This lecture focused communication , essential human society , among vast area rhetoric . A word bring great profit business , also great impact social satisfaction individual . Therefore , study aim understand concept traditional rhetoric redefine term accordance modern society various perspective . Also , study allows understand various rhetorical technique psychological mechanism equipped effective communication . In course lecture , learn , goal key message composed , medium delivery communicating circumstance . ', ' *This class software teaching class humanistic consideration critique . Students humanity science engineering field take class lightly . *We exist middle software , simply use software . The software mere tool , operates prosthesis close upon human body , fundamentally changing human awareness personality . It brings u called apriority software mean software even born . In context , work investigating criticizing software identical work reflecting time space . ', ' ', ' This course deal society , culture custom wide Hispanic world , around well-known symbolic element . Before final exam , student make brief presentation topic chosen researched course . ', ' In democratic society , live citizen . In order live citizen , quality citizen , citizenship , required . This course dealt citizenship , human dignity , liberty , equality , justice , participation , tolerance , civil disobedience , . Also , course aim analyze various issue justice well inequality perspective theory justice . ', ' It following basic Spanish course 1 . Students must enroll ability use regular verb . This course focus 1 ) past future verb tense 2 ) basic frequently used vocabulary . With knowledge try talk daily simple way . ', ' ', \" This class analyze animation medium technically approach . It assumed animation cultural product emerged one social cultural phenomenon . Therefore , environmental analysis based various condition . From point view , approach generational theory characteristic animation . Through , want understand space 'now-here ' standing . \", ' Acording change curtural prospect , theatre traditional aesthetic genre performed field performance mean wider cutural category . This lecture help student understand modern theatrical performance give cultural base . With various audiovisual documentation , discus theatre changed history . During semester , see performaces theatre share experience . ', ' This course aimed understanding building fundamental knowledge English grammar key subjects/chapters English grammar textbook . In course , student also develop several strategy identify grammatical feature key sentence apply question English proficiency test . ', ' In class , explore various area social cultural aspect UK US . The origin English langage , Deveopment democracy , Imperialism , The American Civil War & Slave matter , Startup Companies US issue address semester . For , watch documentary , movie related video clip . After short talk issue . ', ' This course examines case psychology readily accessible film , illuminates scientific study human behavior mental process , change state mind according condition learning , view mental disorder , positive psychology , etc . provide overall understanding human being . ', ' Film industry one important part korean industry culture . It progressed birth new genre . In course think process new invention growth film industry culture . ', \" The evolution concept exercise past age health , pursues `` physical health without disease , '' fitness pursues `` body health beauty . '' Now era 'wellness ' , new concept movement train brain success happiness . In order practice exercise , recognizes value exercise escape indifference , provides scientifically proven optimal exercise guideline . \", \" In 2000s , cartoon ( webtoons ) quickly emerged cultural industry . Webtoons , particular , become important area Korean cultural content . This recently eliminated perception comic `` bad , '' move reinterpret comic culturally often seen . In addition industrial aspect comic ( webtoons ) , class attempt worry human , understand explore world . \", ' 3rd Industry revolution defined Information Revolution , caused Internet . Unfortunately , revolution ’ range limited . On contrary , 4th Industry Revolution defined ICT Convergence phenomenon affect industry hyper-connection intelligence . For reference , hyper-connection triggered Internet Things ( loT ) , intelligence Artificial Intelligence ( Al ) . To sum , lecture important 4th Industry Revolution highly related ICT Convergence . This lecture going cover relationship 4th Industry revolution ICT convergence . And , going cover smart city ICT applied view city . Not , ICT trend , ICT convergence case etc presented . ', ' Artificial intelligence study study implement various intelligent action performed human machine perform , philosophical theoretical issue related . This course introduces various topic methodology covered artificial intelligence . In particular , latest methodology , deep learning machine learning , explored , well philosophical , social , theoretical issue related artificial intelligence . ', ' The history human settlement begin relationship nature reached present century . The importance natural environment neglected pushed priority architectural urban development , tends given priority architecture urban development . Aside question important , consider try achieve various way building environment harmonizes nature , process method architecture seek harmonious coexistence natural environment , eventually raise awareness necessity seeking harmony nature architecture . ', ' ', ' 1 . This course focus expanding knowledge understanding European history war . The history reviewed major war representing ancient , medieval , modern contemporary time . 2 . Classes basically form lecture use audio-visual material ( movie , documentary ) related subject . 3 . If possible , presentation discussion class held together . ', ' This course provides overall understanding importance mental health healthy life examining complexity modern society mental health problem cause , highlighting concept standard mental health , mental health whole , mental health issue modern society , mental health issue , mental health social welfare practice prospect . ', ' The shortcut understanding country understand society culture . Now live time must understand China . This course aim learn information knowledge China basic general level order interact China meet real demand understanding China . ', ' Human being physical mental being . If human body open sensory stimulus external environment , human mind interested value category truth , goodness , beauty . For long time philosophy sought envision nature characteristic category true , good beautiful . Each theme elaborated discipline epistemology & ontology , practical philosophy & ethic , finally aesthetic & theory value . This course present fundamental exploratory model philosophy , thereby providing insight original matter philosophy wasp , furthermore , providing perspective contemporary philosophy must deal . ', ' ', ' After industrial revolution , mid-19th century art commercialized , Kitsch refers cheap art produced large quantity imitation counterfeit . The bourgeois citizen class spiritual room enjoy high culture , materially rich culturally empty . Kitsch made . Pop art mainly refers pop culture-based art expression movement took place England United States since 1960s . Both pop art kitsch common point appearance based popular culture , concept different . If pop art flow bottom pursuing abstract expressionism based popular culture , Kitsch close flow top mimic effect high-end art . Both essential element popular culture understanding important history style indispensable understanding popular culture today . ', \" In information age , expressing one 's opinion properly one important ability . I class combine theory practice communicate intention respect others . The class includes logic , also emotional intelligence heard empathized . Students participating class need flexible extended integrated thinking ability main player living era fourth industrial revolution . Every week , explores topic various field share opinion classmate foster communication skill . This class intended foster thinking expression skill reading , writing , speaking listening exercise , foundation learning essential skill society . \", ' In subject , study cultural tradition , way thinking , lifestyle French various approach ? history , politics , education , art , language , geography , modern French culture society . With , also aim understand global meaning French wine , food , movie , chanson , known international cultural code . And practical experience , hope get global sences manner . ', ' In future , student able persuade audience induce behavior change various presentation situation business proposal , interview , investment briefing . The business must adopted , company must successful entering admitting , must able attract investment . Through lecture , student learn technique example necessary plan , organize , implement order understand persuade audience various presentation situation , meeting , report , interview within company . ', ' Students learn Korean learning Korean culture history . To end , student learn various content understand Korean culture history . Learner activity made using audiovisual , visual material . ', ' Under law system , equal enrollment rate men woman , aftermath exam , appearance Alpha Girls , retire marriage , quit job pregnancy childbirth , various condition continue working childbirth , maternity leave parental leave . If “ ability , ” woman also become society achieve social success work , people say gender equality achieved least field education job . Has equality really achieved ? This subject examines basis survey data system practice organizing human relation , marriage system , family system , sexuality , etc . formed patriarchal tradition history , transforming causing problem woman modern society , seek resolve . To end , first half learns gender-discriminatory ethic discourse looking gender perspective love , sex trafficking , homosexuality , abortion , focusing sexuality micro-view . In second half , comprehensively review family , work labor , woman national gender mainstreaming policy macroscopic perspective , think together social structural issue gender discrimination together ', ' - ? General French Course ? Level 2 ? designed student major French attended successfully preliminary Basic French course already initiated Basic French . - Today , company participating international trade fair , conference international event , prefer applicant speak foreign language ? ? addition English . In particular , French one popular second foreign language pay attention Francophone population grows around world , Europe Africa . - ? General French Course ? Level 2 ? designed upgrade level ? General French Course ? Level 1 ? former ? Basic French ? class . It repetitive systematic study common French expression used daily life Q & A person , organization , company , project etc . Emphasis placed developing communication skill point simple conversation topic common interest Francophones . We also added basic writing practice send receive simple sentence used short text messenger . ', ' ', ' Learning occur school , occurs throughout whole life . Since live dynamic environment , lot new information handle , must constantly keep learning new thing adapt changing environment . This course aim help learner understand mechanism memory learning strategy . We explore various strategy improving memory train become successful self-directed lifelong learner . ', ' This course designed help student understand history labor right context development capitalism labor movement . It deal general history labor right particular event identified affect later development labor right popular culture mass medium , movie , drama , novel , poem , pop song , Korean pop . As result , student would understand life labor class labor class culture collective culture . ', ' This class extends concept social minority group human right formerly confined area professional universalizing issue phenomenon related . Students explore current state challenge faced social minority group seek propose improvement plan . In class , related reading material , film , newspaper article , etc. , issue socially marginalized group including woman , disabled people , child youth elderly extensively examined . ', ' ', ' The roll function medium getting important advent 2.7 million registered disabled people age korea . In , class explores variety issue regarding disability medium ; relationship medium disability , medium representation disability history , medium reception adaptation disabled people , current status influential power disabled people medium industry , disability awareness medium , politics participation disable people . Students improve knowledge sensitivity disability medium empower cultural citizen respect diversity . ', ' Gendered Innovations harness creative power sex gender analysis innovation discovery . Considering gender may add valuable dimension research . It may take research new direction . Gendered Innovations project : 1 ) understands practical method sex gender analysis scientist engineer 2 ) provides case study concrete illustration sex gender analysis lead innovation . ', ' The big data analysis recently emerged mean solving various problem science , economy , society . Therefore , course aim teach theoretical curriculum focused analyzing processing big data practical educational content various field regard big data . We would like take lecture omnibus lecture conducted various department within College Science Convergence Technology . In particular , would like offer opportunity learn technical concept data analysis processing method using Python R library . ', ' Understanding Music Therapy , We study basic theory Music Therapy , also study role music kind mental disease related social matter , physical disease . Study unfit behavior music therapy . ', ' ', ' ', ' ', ' ', ' ', ' ', ' The development communication modern society remarkable . All organization dealing public , whether government , business , organization , exist without proper communication . If see communication organization strive establish long-term friendly relation various public , communication perhaps one important part human development . Therefore , important u create persuasive creative message based theory various field order obtain want interaction . However , people think persuasive creative message made little effort . Or , easy assume someone creates persuasive message novel conveying unique talent . However , persuasive message used various communication context result constant effort strategy development rather accidentally flashing idea . It possible create persuasive creative message based idea derived various experience conducting scientific analysis based thorough data research market condition , consumer , target public , intuition feeling . A thorough research analysis data persuasive message based theory make competent communicator . You able effectively present communicate thought front others , well skill properly write thought make look good . This essence proposal . You need ability efficiently communicate think person plan proposal appropriately persuade . Many company specializing advertising marketing need proposal containing novel idea . The ability plan proposal essential inform communicate thought effectively modern world . In addition , creative proposal planning essential tool conve ', ' ', ' ', ' This course designed learn Korean language identifying K-POP Korean culture . Understanding Korean culture prerequisite understanding authentic lyric K-POP . This course basically learn authentic Korean incorporating Korean culture K-POP song lyric . ', ' This course tailored foreign student want develop Korean listening speaking skill college-level class academic learning . The student equipped skill effectively learn academic Korean acquiring Korean listening- speaking-oriented learning method . This course basically zero developing required listening speaking skill course university lecture learning . ', ' This course designed improve reading writing skill international student . In particular , content structured student understand carry practical dimension , self-expression required class , grasping content lecture , understanding material , presentation , preparation mid-term final exam answer , writing report . This , turn , mean course improve communication skill international student , , expected increase satisfaction overall learning . ', ' The primary goal course improving foreign student ’ listening speaking ability , , time , exposing Korean culture . Students provided opportunity practice natural pronunciation different intonation accordance meaning sentence , understand spoken speech accurately express speaker ’ thought effectively . This course introduce Korean culture related various topic . With comprehension Korean culture basis , student gain better understanding Korean language able use language naturally . ', ' 〈Korean Reading Writing〉 organized unit conjunction reading writing help foreign student improve ability read write Korean balanced manner . The Korean vocabulary expression needed college life presented , reading ability Korean text developed , vocabulary expression understood reading text could used writing . Also , organization Korean sentence needed writing Korean basic writing method needed college life taught master . The theme unit include Korean social culture university basic cultural knowledge student know . ', ' INT 253 Corporate Law This course designed study regulation modern corporation basis corporate law civil law . It includes organization corporation capitalization . ', ' This course learns C language used widely . We aimed solve real-world problem learn basic syntax various feature . - Learn basic grammar - Analyze design problem - Create C program check result problem ', \" This lecture aim study Japanese culture wisdom origin history Japanese seasonal event custom . Annual event symbolize history culture country 's people . Secular custom also refer sensibility , lifestyle , culture people . Unlike China Korea , modern Japanese use lunar calendar use solar calendar . However , world lunar calendar certainly exists life Japanese people today , traditional custom maintained enjoyed . This seen looking annual event Japanese calendar custom season . These custom reflect changing season beautiful nature Japan , express Japanese aesthetic , permeate Japanese life . Therefore , lecture , examine custom four season Japan , understand lifestyle culture Japanese people past present custom New Year holiday , Dano , Hina Matsuri , Tanabata , adapt adapt modern society . You understand folklore , history , religion lifestyle modern Japanese people reviewing annual event occurred . \", ' This general lecture non-native speaker whose Japanese ability beginner intermediate level . Although lecture focused conversation , explain grammar necessary conversation practice simple conversation using grammar . In addition , Japanese language student must learn lecture emphasizes Japanese textbook , also Japanese language Japanese people actually use real life , emphasizes developing conversational skill connected Japanese culture . ', ' ERICA Work Placement educational curriculum developed together industry resolve problem skill mismatch student industry . This course intended provide work experience opportunity acquire relevant skill career exploration hands-on experience major-related on-the-job training 1st 2nd semester domestic international company . ', ' ERICA Work Placement educational curriculum developed together industry resolve problem skill mismatch student industry . This course intended provide work experience opportunity acquire relevant skill career exploration hands-on experience major-related on-the-job training 1st 2nd semester domestic international company . ', ' ERICA Work Placement educational curriculum developed together industry resolve problem skill mismatch student industry . This course intended provide work experience opportunity acquire relevant skill career exploration hands-on experience major-related on-the-job training 1st 2nd semester domestic international company . ', ' ERICA Work Placement educational curriculum developed together industry resolve problem skill mismatch student industry . This course intended provide work experience opportunity acquire relevant skill career exploration hands-on experience major-related on-the-job training 1st 2nd semester domestic international company . ', ' ', ' ', \" · CT ( Culture Technology ) , mean combination culture technology , collectively refers intangible intangible technology develop planning , creation , distribution increase added value cultural content . It also selected core technology lead national economy next generation growth engine industry future national promising technologies． This course focus issue related social change issue , focusing `` Conversion Hyper Connection Society '' focusing convergence industry technology Fourth Industrial Revolution . \", ' ', ' ', ' ', ' ', ' ', ' Students learn basic theory color study case color psychology capture various emotion man using color daily life . Based , aim develop right understanding application various color used modern society . ', ' ', ' ', ' ', ' ', ' ', ' ', ' ', ' ', ' ', ' ', ' Optional Co-op Cooperative Education ( Co-op ) developed meet demand experiential learning also meet increasing demand work experience . This course intended provide work experience opportunity acquire relevant skill career exploration hands-on experience major-related on-the-job training 1st and/or 2nd semester domestic international company . ', ' ']\n"
     ]
    }
   ],
   "source": [
    "# 예찬 _ 의도하고 싶은 것 : 전체 영문개요의 내용을 일괄적으로 stop word를 이용해서 필터하고 그 내용을 가지고 코사인 유사도를 구하고 싶다 !\n",
    "filtered_words = [' ' for _ in range(len(data['영문개요']))]\n",
    "stopwords = nltk.corpus.stopwords.words('english')\n",
    "# 예찬 _ 정규화 작업을 위해서 WordNetLemmatizer()호ㅓ출\n",
    "lemma = WordNetLemmatizer()\n",
    "for i in range(len(data['영문개요'])):\n",
    "  words = word_tokenize(data['영문개요'][i])\n",
    "  # print(words)\n",
    "  for word in words:\n",
    "    if word not in stopwords:\n",
    "        # 예찬 _ word에 속한 단어를 명사로 변환\n",
    "        word = lemma.lemmatize(word, 'n')\n",
    "        # 예찬 _ 새로운 filtered_words에 filter를 마친 단어들을 저장함\n",
    "        filtered_words[i] += (word+' ')\n",
    "print(filtered_words)\n",
    "# print(len(filtered_words))"
   ]
  },
  {
   "cell_type": "code",
   "execution_count": null,
   "metadata": {},
   "outputs": [],
   "source": []
  },
  {
   "cell_type": "code",
   "execution_count": 20,
   "metadata": {
    "id": "LbjfR_98gGwO"
   },
   "outputs": [],
   "source": [
    "cosine_sim = linear_kernel(tfidf_matrix, tfidf_matrix)"
   ]
  },
  {
   "cell_type": "code",
   "execution_count": 21,
   "metadata": {
    "colab": {
     "base_uri": "https://localhost:8080/"
    },
    "id": "qVWRkQXXZ9uu",
    "outputId": "4c0d6612-1f88-4d40-9de9-82c64283b135"
   },
   "outputs": [
    {
     "name": "stdout",
     "output_type": "stream",
     "text": [
      "과목명\n",
      "중급회계1           0\n",
      "AI+X:인공지능       1\n",
      "AI+X:딥러닝        2\n",
      "AI+X:R-Py컴퓨팅    3\n",
      "AI+X:머신러닝       4\n",
      "dtype: int64\n"
     ]
    }
   ],
   "source": [
    "indices = pd.Series(data.index, index=data['과목명']).drop_duplicates()\n",
    "print(indices.head())"
   ]
  },
  {
   "cell_type": "code",
   "execution_count": 22,
   "metadata": {
    "colab": {
     "base_uri": "https://localhost:8080/"
    },
    "id": "gZZ1u3qKkLP8",
    "outputId": "19acbe13-fae6-4350-a397-e9ffd13b3920"
   },
   "outputs": [
    {
     "ename": "ModuleNotFoundError",
     "evalue": "No module named 'google.colab'",
     "output_type": "error",
     "traceback": [
      "\u001b[1;31m---------------------------------------------------------------------------\u001b[0m",
      "\u001b[1;31mModuleNotFoundError\u001b[0m                       Traceback (most recent call last)",
      "\u001b[1;32m<ipython-input-22-d5df0069828e>\u001b[0m in \u001b[0;36m<module>\u001b[1;34m\u001b[0m\n\u001b[1;32m----> 1\u001b[1;33m \u001b[1;32mfrom\u001b[0m \u001b[0mgoogle\u001b[0m\u001b[1;33m.\u001b[0m\u001b[0mcolab\u001b[0m \u001b[1;32mimport\u001b[0m \u001b[0mdrive\u001b[0m\u001b[1;33m\u001b[0m\u001b[1;33m\u001b[0m\u001b[0m\n\u001b[0m\u001b[0;32m      2\u001b[0m \u001b[0mdrive\u001b[0m\u001b[1;33m.\u001b[0m\u001b[0mmount\u001b[0m\u001b[1;33m(\u001b[0m\u001b[1;34m'/content/drive'\u001b[0m\u001b[1;33m)\u001b[0m\u001b[1;33m\u001b[0m\u001b[1;33m\u001b[0m\u001b[0m\n",
      "\u001b[1;31mModuleNotFoundError\u001b[0m: No module named 'google.colab'"
     ]
    }
   ],
   "source": [
    "from google.colab import drive\n",
    "drive.mount('/content/drive')"
   ]
  },
  {
   "cell_type": "code",
   "execution_count": 23,
   "metadata": {
    "id": "MZWgZIOtaGNy"
   },
   "outputs": [],
   "source": [
    "def get_recommendations(title, cosine_sim=cosine_sim):\n",
    "    # 선택한 국문개요에 해당되는 인덱스를 받아옵니다. 이제 선택한 영화를 가지고 연산할 수 있습니다.\n",
    "    idx = indices[title]\n",
    "\n",
    "    # 모든 과목에 대해서 해당 과목와의 유사도를 구합니다.\n",
    "    sim_scores = list(enumerate(cosine_sim[idx]))\n",
    "\n",
    "    # 유사도에 따라 정렬합니다.\n",
    "    sim_scores = sorted(sim_scores, key=lambda x: x[1], reverse=True)\n",
    "\n",
    "    # 가장 유사한 10개의 과목를 받아옵니다.\n",
    "    sim_scores = sim_scores[1:6]\n",
    "\n",
    "    # 가장 유사한 10개의 과목의 인덱스를 받아옵니다.\n",
    "    movie_indices = [i[0] for i in sim_scores]\n",
    "\n",
    "    # 가장 유사한 10개의 영화의 제목을 리턴합니다.\n",
    "    return data['과목명'].iloc[movie_indices]"
   ]
  },
  {
   "cell_type": "code",
   "execution_count": 28,
   "metadata": {
    "colab": {
     "base_uri": "https://localhost:8080/"
    },
    "id": "FLNl6pfjaZCx",
    "outputId": "96c39673-dfaf-4a3b-f19b-bf74d91e09d2"
   },
   "outputs": [
    {
     "data": {
      "text/plain": [
       "128       중급중국어\n",
       "149     한류와한국문화\n",
       "254    한국의문화와역사\n",
       "281      C프로그래밍\n",
       "201       교양태권도\n",
       "Name: 과목명, dtype: object"
      ]
     },
     "execution_count": 28,
     "metadata": {},
     "output_type": "execute_result"
    }
   ],
   "source": [
    "get_recommendations('실용중국어')"
   ]
  },
  {
   "cell_type": "code",
   "execution_count": null,
   "metadata": {
    "colab": {
     "background_save": true,
     "base_uri": "https://localhost:8080/"
    },
    "id": "bU4f3UPRgIGC",
    "outputId": "e94fd49e-1e57-4654-a6a2-00bc7446a866"
   },
   "outputs": [
    {
     "name": "stdout",
     "output_type": "stream",
     "text": [
      "255\n",
      "307\n",
      "현대사회와페미니즘\n"
     ]
    }
   ],
   "source": [
    "print(indices['현대사회와페미니즘'])\n",
    "print(indices['선택형Co-op'])\n",
    "print(indices.index[255])"
   ]
  },
  {
   "cell_type": "code",
   "execution_count": null,
   "metadata": {
    "id": "c5FVrS9p56s1"
   },
   "outputs": [],
   "source": [
    "i=255\n",
    "while i<308:\n",
    "  print('과목명: ', indices.index[i])\n",
    "  print(get_recommendations(indices.index[i]))\n",
    "  print('============================')\n",
    "  i=i+1\n",
    "\n",
    "  "
   ]
  }
 ],
 "metadata": {
  "colab": {
   "collapsed_sections": [],
   "name": "recom.ipynb",
   "provenance": []
  },
  "kernelspec": {
   "display_name": "Python 3",
   "language": "python",
   "name": "python3"
  },
  "language_info": {
   "codemirror_mode": {
    "name": "ipython",
    "version": 3
   },
   "file_extension": ".py",
   "mimetype": "text/x-python",
   "name": "python",
   "nbconvert_exporter": "python",
   "pygments_lexer": "ipython3",
   "version": "3.7.4"
  }
 },
 "nbformat": 4,
 "nbformat_minor": 1
}
